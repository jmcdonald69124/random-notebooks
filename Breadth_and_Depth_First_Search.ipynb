{
 "cells": [
  {
   "cell_type": "markdown",
   "metadata": {},
   "source": [
    "# Breadth First Search\n",
    "\n",
    "1. Add the vertex to start the breadth-first search to the empty queue. Mark that vertex visited.\n",
    "2. Extract a vertex from the queue and add its neighbors\n",
    "to the queue if that isn't marked visited.\n",
    "3. Repeat step 2 until the queue is empty.\n",
    "\n",
    "MIT Lecture - https://www.youtube.com/watch?v=s-CYnVz-uh4\n"
   ]
  },
  {
   "cell_type": "markdown",
   "metadata": {},
   "source": [
    "The time complexity of the breadth-first search as O(|V|+|E|).\n",
    "\n",
    "Tip: To make the code more efficient, you can use the deque object from the collections\n",
    "    module instead of a list, for implementing queue. This way you can use the popleft()\n",
    "    method instead of the  pop(0) built-in function on queue. This will result in\n",
    "    a quicker code as popleft()has a time complexity of O(1) while pop(0) has O(n)."
   ]
  },
  {
   "cell_type": "code",
   "execution_count": 9,
   "metadata": {},
   "outputs": [],
   "source": [
    "from collections import deque\n",
    "\n",
    "def bfs(graph, start):\n",
    "    queue = deque([start])\n",
    "    level = {start: 0}\n",
    "    parent = {start: None}\n",
    "    i = 1\n",
    "    while queue:\n",
    "        start = queue.popleft()\n",
    "        for node in graph[start]:\n",
    "            if node not in level:            \n",
    "                queue.append(node)\n",
    "                level[node] = i\n",
    "                parent[node] = start\n",
    "        i += 1\n",
    "    return level, parent"
   ]
  },
  {
   "cell_type": "markdown",
   "metadata": {},
   "source": [
    "https://pythoninwonderland.wordpress.com/2017/03/18/how-to-implement-breadth-first-search-in-python/"
   ]
  },
  {
   "cell_type": "code",
   "execution_count": 10,
   "metadata": {},
   "outputs": [
    {
     "name": "stdout",
     "output_type": "stream",
     "text": [
      "({'A': 0, 'B': 1, 'C': 1, 'E': 1, 'D': 2, 'F': 3, 'G': 3}, {'A': None, 'B': 'A', 'C': 'A', 'E': 'A', 'D': 'B', 'F': 'C', 'G': 'C'})\n"
     ]
    }
   ],
   "source": [
    "graph = {\n",
    "    'A': ['B', 'C', 'E'],\n",
    "    'B': ['A','D', 'E'],\n",
    "    'C': ['A', 'F', 'G'],\n",
    "    'D': ['B'],\n",
    "    'E': ['A', 'B','D'],\n",
    "    'F': ['C'],\n",
    "    'G': ['C']\n",
    "}\n",
    "\n",
    "print(bfs(graph, \"A\"))"
   ]
  },
  {
   "cell_type": "markdown",
   "metadata": {},
   "source": [
    " First, in case of the shortest path application, we need for the queue to keep track of possible paths (implemented as list of nodes) instead of nodes. Second, when the algorithm checks for a neighbour node, it needs to check whether the neighbour node corresponds to the goal node. If that’s the case, we have a solution and there’s no need to keep exploring the graph."
   ]
  },
  {
   "cell_type": "code",
   "execution_count": null,
   "metadata": {},
   "outputs": [],
   "source": [
    "from collections import deque\n",
    "\n",
    "\n"
   ]
  }
 ],
 "metadata": {
  "kernelspec": {
   "display_name": "Python 3.6.9 64-bit",
   "language": "python",
   "name": "python36964bit856e0aa406ec41e98c8b41d15874115d"
  },
  "language_info": {
   "codemirror_mode": {
    "name": "ipython",
    "version": 3
   },
   "file_extension": ".py",
   "mimetype": "text/x-python",
   "name": "python",
   "nbconvert_exporter": "python",
   "pygments_lexer": "ipython3",
   "version": "3.6.9"
  }
 },
 "nbformat": 4,
 "nbformat_minor": 4
}
