{
 "cells": [
  {
   "cell_type": "markdown",
   "metadata": {},
   "source": [
    "# Algorithms\n",
    "\n",
    "## Greedy Algorithms\n",
    "Greedy algorithms try to find a localized optimum solution, which may eventually lead to globally optimized solutions. However, generally greedy algorithms do not provide globally optimized solutions.\n",
    "\n",
    "So greedy algorithms look for a easy solution at that point in time without considering how it impacts the future steps. It is similar to how humans solve problems without going through the complete details of the inputs provided.\n",
    "\n",
    "Most networking algorithms use the greedy approach. Here is a list of few of them −\n",
    "\n",
    "- Travelling Salesman Problem\n",
    "- Prim's Minimal Spanning Tree Algorithm\n",
    "- Kruskal's Minimal Spanning Tree Algorithm\n",
    "- Dijkstra's Minimal Spanning Tree Algorithm"
   ]
  },
  {
   "cell_type": "markdown",
   "metadata": {},
   "source": [
    "## Divide and Conquer\n",
    "This class of algorithms involve dividing the given problem into smaller sub-problems and then solving each of the sub-problem independently. When the problem can not be further sub divided, we start merging the solution to each of the sub-problem to arrive at the solution for the bigger problem.\n",
    "\n",
    "The important examples of divide and conquer algorithms are −\n",
    "\n",
    "- Merge Sort\n",
    "- Quick Sort\n",
    "- Kruskal's Minimal Spanning Tree Algorithm\n",
    "- Binary Search"
   ]
  },
  {
   "cell_type": "code",
   "execution_count": 3,
   "metadata": {},
   "outputs": [
    {
     "name": "stdout",
     "output_type": "stream",
     "text": [
      "5\n",
      "None\n"
     ]
    }
   ],
   "source": [
    "def bsearch(list, val):\n",
    "\n",
    "    list_size = len(list) - 1\n",
    "\n",
    "    idx0 = 0\n",
    "    idxn = list_size\n",
    "# Find the middle most value\n",
    "\n",
    "    while idx0 <= idxn:\n",
    "        midval = (idx0 + idxn)// 2\n",
    "\n",
    "        if list[midval] == val:\n",
    "            return midval\n",
    "# Compare the value the middle most value\n",
    "        if val > list[midval]:\n",
    "            idx0 = midval + 1\n",
    "        else:\n",
    "            idxn = midval - 1\n",
    "\n",
    "    if idx0 > idxn:\n",
    "        return None\n",
    "# Initialize the sorted list\n",
    "list = [2,7,19,34,53,72]\n",
    "\n",
    "# Print the search result\n",
    "print(bsearch(list,72))\n",
    "print(bsearch(list,11))"
   ]
  },
  {
   "cell_type": "markdown",
   "metadata": {},
   "source": [
    "## Mergesort"
   ]
  },
  {
   "cell_type": "markdown",
   "metadata": {},
   "source": [
    "## Dynamic Programming\n",
    "\n",
    "Dynamic programming involves dividing the bigger problem into smaller ones but unlike divide and conquer it does not involve solving each sub-problem independently. Rather the results of smaller sub-problems are remembered and used for similar or overlapping sub-problems. Mostly, these algorithms are used for optimization. Before solving the in-hand sub-problem, dynamic algorithm will try to examine the results of the previously solved sub-problems.\n",
    "\n",
    "dynamic algorithms are motivated for an overall optimization of the problem and not the local optimization.\n",
    "\n",
    "The important examples of Dynamic programming algorithms are −\n",
    "\n",
    "- Fibonacci number series\n",
    "- Knapsack problem\n",
    "- Tower of Hanoi"
   ]
  },
  {
   "cell_type": "code",
   "execution_count": null,
   "metadata": {},
   "outputs": [],
   "source": []
  }
 ],
 "metadata": {
  "kernelspec": {
   "display_name": "Python 3.6.9 64-bit",
   "language": "python",
   "name": "python36964bit856e0aa406ec41e98c8b41d15874115d"
  },
  "language_info": {
   "codemirror_mode": {
    "name": "ipython",
    "version": 3
   },
   "file_extension": ".py",
   "mimetype": "text/x-python",
   "name": "python",
   "nbconvert_exporter": "python",
   "pygments_lexer": "ipython3",
   "version": "3.6.9"
  }
 },
 "nbformat": 4,
 "nbformat_minor": 4
}
